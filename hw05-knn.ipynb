{
 "cells": [
  {
   "cell_type": "markdown",
   "metadata": {},
   "source": [
    "## Введение в DS на УБ и МиРА (2022)\n",
    "### Домашнее задание #5:  Ближайшие соседи\n",
    "Дедлайн: 19 июня 2022 года, 23:59\n",
    "Правила игры\n",
    "\n",
    "Домашнее задание состоит из двух частей, которые оцениваются в 3 - 7 балла. Все пункты в пределах одной части имеют одинаковый вес.\n",
    "\n",
    "Решения принимаются до 19 июня 2022 года, 23:59 МСК включительно. Работы, отправленные после дедлайна, не проверяются. Дата и время сдачи определяются по последнему запушенному в репозиторий коммиту (можно увидеть на GitHub, наведя мышкой на указатель срока (например, 3 days ago) справа от файлов).\n",
    "\n",
    "Все решения нужно загрузить в личный репозиторий на GitHub Classroom.\n",
    "\n",
    "Разрешается использовать без доказательства любые результаты, встречавшиеся на лекциях или семинарах по курсу, если получение этих результатов не является вопросом задания. Разрешается использовать любые свободные источники с указанием ссылки на них.\n",
    "\n",
    "Плагиат не допускается. При обнаружении случаев списывания, \n",
    "0\n",
    " за работу выставляется всем участникам нарушения, даже если можно установить, кто у кого списал.\n"
   ]
  },
  {
   "cell_type": "markdown",
   "metadata": {},
   "source": [
    " ---"
   ]
  },
  {
   "cell_type": "markdown",
   "metadata": {},
   "source": [
    "В этом задании будем предсказывать удовлетворенность студентов их программой (`LikeDegree`). Скачайте  Student_Behaviour.csv, содержащую информацию о студентов бакалавриата.\n"
   ]
  },
  {
   "cell_type": "markdown",
   "metadata": {},
   "source": [
    "### Часть 1: Исследуем данные\n",
    "**Задание 1.** Загрузите данные из файла Student_Behaviour.csv. Выведите первые 5 строк таблицы."
   ]
  },
  {
   "cell_type": "code",
   "execution_count": 1,
   "metadata": {},
   "outputs": [],
   "source": [
    "import pandas as pd"
   ]
  },
  {
   "cell_type": "code",
   "execution_count": 30,
   "metadata": {},
   "outputs": [],
   "source": [
    "data = pd.read_csv(\"https://raw.githubusercontent.com/V-Marco/public_intro_to_DS_mba_hse/main/HW/HW5/Student_Behaviour.csv\")"
   ]
  },
  {
   "cell_type": "code",
   "execution_count": 147,
   "metadata": {},
   "outputs": [
    {
     "data": {
      "text/html": [
       "<div>\n",
       "<style scoped>\n",
       "    .dataframe tbody tr th:only-of-type {\n",
       "        vertical-align: middle;\n",
       "    }\n",
       "\n",
       "    .dataframe tbody tr th {\n",
       "        vertical-align: top;\n",
       "    }\n",
       "\n",
       "    .dataframe thead th {\n",
       "        text-align: right;\n",
       "    }\n",
       "</style>\n",
       "<table border=\"1\" class=\"dataframe\">\n",
       "  <thead>\n",
       "    <tr style=\"text-align: right;\">\n",
       "      <th></th>\n",
       "      <th>CertificationCourses</th>\n",
       "      <th>Gender</th>\n",
       "      <th>Department</th>\n",
       "      <th>Height(CM)</th>\n",
       "      <th>Weight(KG)</th>\n",
       "      <th>10Mark</th>\n",
       "      <th>12Mark</th>\n",
       "      <th>CollegeMark</th>\n",
       "      <th>Hobbies</th>\n",
       "      <th>DailyStudingTime</th>\n",
       "      <th>PreferToStudyIn</th>\n",
       "      <th>SalaryExpectation</th>\n",
       "      <th>LikeDegree</th>\n",
       "      <th>CareerBasedonDegree</th>\n",
       "      <th>GamesSpendingTime</th>\n",
       "      <th>TravellingTime</th>\n",
       "      <th>StressLevel</th>\n",
       "      <th>FinancialStatus</th>\n",
       "      <th>PartTimeJob?</th>\n",
       "    </tr>\n",
       "  </thead>\n",
       "  <tbody>\n",
       "    <tr>\n",
       "      <th>0</th>\n",
       "      <td>No</td>\n",
       "      <td>Male</td>\n",
       "      <td>BCA</td>\n",
       "      <td>100.0</td>\n",
       "      <td>58.0</td>\n",
       "      <td>79.0</td>\n",
       "      <td>65.0</td>\n",
       "      <td>80.0</td>\n",
       "      <td>Video Games</td>\n",
       "      <td>0 - 30 minute</td>\n",
       "      <td>Morning</td>\n",
       "      <td>40000</td>\n",
       "      <td>No</td>\n",
       "      <td>50%</td>\n",
       "      <td>1.30 - 2 hour</td>\n",
       "      <td>30 - 60 minutes</td>\n",
       "      <td>Bad</td>\n",
       "      <td>Bad</td>\n",
       "      <td>No</td>\n",
       "    </tr>\n",
       "    <tr>\n",
       "      <th>1</th>\n",
       "      <td>No</td>\n",
       "      <td>Female</td>\n",
       "      <td>BCA</td>\n",
       "      <td>90.0</td>\n",
       "      <td>40.0</td>\n",
       "      <td>70.0</td>\n",
       "      <td>80.0</td>\n",
       "      <td>70.0</td>\n",
       "      <td>Cinema</td>\n",
       "      <td>30 - 60 minute</td>\n",
       "      <td>Morning</td>\n",
       "      <td>15000</td>\n",
       "      <td>Yes</td>\n",
       "      <td>75%</td>\n",
       "      <td>1 - 1.30 hour</td>\n",
       "      <td>0 - 30 minutes</td>\n",
       "      <td>Bad</td>\n",
       "      <td>Bad</td>\n",
       "      <td>No</td>\n",
       "    </tr>\n",
       "    <tr>\n",
       "      <th>2</th>\n",
       "      <td>Yes</td>\n",
       "      <td>Male</td>\n",
       "      <td>BCA</td>\n",
       "      <td>159.0</td>\n",
       "      <td>78.0</td>\n",
       "      <td>69.5</td>\n",
       "      <td>61.0</td>\n",
       "      <td>55.0</td>\n",
       "      <td>Cinema</td>\n",
       "      <td>1 - 2 Hour</td>\n",
       "      <td>Anytime</td>\n",
       "      <td>13000</td>\n",
       "      <td>Yes</td>\n",
       "      <td>50%</td>\n",
       "      <td>More than 2 hour</td>\n",
       "      <td>30 - 60 minutes</td>\n",
       "      <td>Awful</td>\n",
       "      <td>Bad</td>\n",
       "      <td>No</td>\n",
       "    </tr>\n",
       "    <tr>\n",
       "      <th>3</th>\n",
       "      <td>Yes</td>\n",
       "      <td>Female</td>\n",
       "      <td>BCA</td>\n",
       "      <td>147.0</td>\n",
       "      <td>20.0</td>\n",
       "      <td>70.0</td>\n",
       "      <td>59.0</td>\n",
       "      <td>58.0</td>\n",
       "      <td>Reading books</td>\n",
       "      <td>1 - 2 Hour</td>\n",
       "      <td>Anytime</td>\n",
       "      <td>1500000</td>\n",
       "      <td>No</td>\n",
       "      <td>50%</td>\n",
       "      <td>1.30 - 2 hour</td>\n",
       "      <td>0 - 30 minutes</td>\n",
       "      <td>Bad</td>\n",
       "      <td>good</td>\n",
       "      <td>No</td>\n",
       "    </tr>\n",
       "    <tr>\n",
       "      <th>4</th>\n",
       "      <td>No</td>\n",
       "      <td>Male</td>\n",
       "      <td>BCA</td>\n",
       "      <td>170.0</td>\n",
       "      <td>54.0</td>\n",
       "      <td>40.0</td>\n",
       "      <td>65.0</td>\n",
       "      <td>30.0</td>\n",
       "      <td>Video Games</td>\n",
       "      <td>30 - 60 minute</td>\n",
       "      <td>Morning</td>\n",
       "      <td>50000</td>\n",
       "      <td>Yes</td>\n",
       "      <td>25%</td>\n",
       "      <td>1.30 - 2 hour</td>\n",
       "      <td>30 - 60 minutes</td>\n",
       "      <td>Good</td>\n",
       "      <td>good</td>\n",
       "      <td>No</td>\n",
       "    </tr>\n",
       "  </tbody>\n",
       "</table>\n",
       "</div>"
      ],
      "text/plain": [
       "  CertificationCourses  Gender Department  Height(CM)  Weight(KG)  10Mark  \\\n",
       "0                   No    Male        BCA       100.0        58.0    79.0   \n",
       "1                   No  Female        BCA        90.0        40.0    70.0   \n",
       "2                  Yes    Male        BCA       159.0        78.0    69.5   \n",
       "3                  Yes  Female        BCA       147.0        20.0    70.0   \n",
       "4                   No    Male        BCA       170.0        54.0    40.0   \n",
       "\n",
       "   12Mark  CollegeMark        Hobbies DailyStudingTime PreferToStudyIn  \\\n",
       "0    65.0         80.0    Video Games    0 - 30 minute         Morning   \n",
       "1    80.0         70.0         Cinema   30 - 60 minute         Morning   \n",
       "2    61.0         55.0         Cinema       1 - 2 Hour         Anytime   \n",
       "3    59.0         58.0  Reading books       1 - 2 Hour         Anytime   \n",
       "4    65.0         30.0    Video Games   30 - 60 minute         Morning   \n",
       "\n",
       "   SalaryExpectation LikeDegree CareerBasedonDegree GamesSpendingTime  \\\n",
       "0              40000         No                 50%     1.30 - 2 hour   \n",
       "1              15000        Yes                 75%     1 - 1.30 hour   \n",
       "2              13000        Yes                 50%  More than 2 hour   \n",
       "3            1500000         No                 50%     1.30 - 2 hour   \n",
       "4              50000        Yes                 25%     1.30 - 2 hour   \n",
       "\n",
       "   TravellingTime  StressLevel  FinancialStatus PartTimeJob?  \n",
       "0  30 - 60 minutes          Bad             Bad           No  \n",
       "1   0 - 30 minutes          Bad             Bad           No  \n",
       "2  30 - 60 minutes        Awful             Bad           No  \n",
       "3   0 - 30 minutes          Bad            good           No  \n",
       "4  30 - 60 minutes         Good            good           No  "
      ]
     },
     "execution_count": 147,
     "metadata": {},
     "output_type": "execute_result"
    }
   ],
   "source": [
    "data.head(5)"
   ]
  },
  {
   "cell_type": "markdown",
   "metadata": {},
   "source": [
    "**Задание 2.** Проверьте колонки на наличие пропусков, избавьтесь их. "
   ]
  },
  {
   "cell_type": "code",
   "execution_count": 148,
   "metadata": {},
   "outputs": [
    {
     "name": "stdout",
     "output_type": "stream",
     "text": [
      "<class 'pandas.core.frame.DataFrame'>\n",
      "RangeIndex: 235 entries, 0 to 234\n",
      "Data columns (total 19 columns):\n",
      " #   Column                Non-Null Count  Dtype  \n",
      "---  ------                --------------  -----  \n",
      " 0   CertificationCourses  235 non-null    object \n",
      " 1   Gender                235 non-null    object \n",
      " 2   Department            235 non-null    object \n",
      " 3   Height(CM)            235 non-null    float64\n",
      " 4   Weight(KG)            235 non-null    float64\n",
      " 5   10Mark                235 non-null    float64\n",
      " 6   12Mark                235 non-null    float64\n",
      " 7   CollegeMark           235 non-null    float64\n",
      " 8   Hobbies               235 non-null    object \n",
      " 9   DailyStudingTime      235 non-null    object \n",
      " 10  PreferToStudyIn       235 non-null    object \n",
      " 11  SalaryExpectation     235 non-null    int64  \n",
      " 12  LikeDegree            235 non-null    object \n",
      " 13  CareerBasedonDegree   235 non-null    object \n",
      " 14  GamesSpendingTime     235 non-null    object \n",
      " 15  TravellingTime        235 non-null    object \n",
      " 16  StressLevel           235 non-null    object \n",
      " 17  FinancialStatus       235 non-null    object \n",
      " 18  PartTimeJob?          235 non-null    object \n",
      "dtypes: float64(5), int64(1), object(13)\n",
      "memory usage: 35.0+ KB\n"
     ]
    }
   ],
   "source": [
    "data.info()"
   ]
  },
  {
   "cell_type": "markdown",
   "metadata": {},
   "source": [
    "Пропусков нет"
   ]
  },
  {
   "cell_type": "markdown",
   "metadata": {},
   "source": [
    "**Задание 3.**  Колонку `CareerBasedonDegree` приведите к числовому виду."
   ]
  },
  {
   "cell_type": "code",
   "execution_count": 149,
   "metadata": {},
   "outputs": [],
   "source": [
    "def numeric_view(x):\n",
    "    return float(x[:-1])/100"
   ]
  },
  {
   "cell_type": "code",
   "execution_count": 150,
   "metadata": {},
   "outputs": [
    {
     "data": {
      "text/plain": [
       "0      50%\n",
       "1      75%\n",
       "2      50%\n",
       "3      50%\n",
       "4      25%\n",
       "      ... \n",
       "230    50%\n",
       "231    75%\n",
       "232    50%\n",
       "233    75%\n",
       "234    75%\n",
       "Name: CareerBasedonDegree, Length: 235, dtype: object"
      ]
     },
     "execution_count": 150,
     "metadata": {},
     "output_type": "execute_result"
    }
   ],
   "source": [
    "data.CareerBasedonDegree"
   ]
  },
  {
   "cell_type": "code",
   "execution_count": 151,
   "metadata": {},
   "outputs": [],
   "source": [
    "data.CareerBasedonDegree = data.CareerBasedonDegree.map(numeric_view)"
   ]
  },
  {
   "cell_type": "code",
   "execution_count": 152,
   "metadata": {},
   "outputs": [
    {
     "data": {
      "text/plain": [
       "0      0.50\n",
       "1      0.75\n",
       "2      0.50\n",
       "3      0.50\n",
       "4      0.25\n",
       "       ... \n",
       "230    0.50\n",
       "231    0.75\n",
       "232    0.50\n",
       "233    0.75\n",
       "234    0.75\n",
       "Name: CareerBasedonDegree, Length: 235, dtype: float64"
      ]
     },
     "execution_count": 152,
     "metadata": {},
     "output_type": "execute_result"
    }
   ],
   "source": [
    "data.CareerBasedonDegree"
   ]
  },
  {
   "cell_type": "markdown",
   "metadata": {},
   "source": [
    "**Задание 4.**  В датасете есть 3 поля, с суффиксом `Time`, данные в них строковые, которые означают временной интервал. Извлеките минимальное время(левую границу интервала) для каждой из этих переменных и переведите в минуты, запишите в новые столбцы, удалите старые."
   ]
  },
  {
   "cell_type": "code",
   "execution_count": 153,
   "metadata": {},
   "outputs": [
    {
     "data": {
      "text/plain": [
       "Index(['CertificationCourses', 'Gender', 'Department', 'Height(CM)',\n",
       "       'Weight(KG)', '10Mark', '12Mark', 'CollegeMark', 'Hobbies',\n",
       "       'DailyStudingTime', 'PreferToStudyIn', 'SalaryExpectation',\n",
       "       'LikeDegree', 'CareerBasedonDegree', 'GamesSpendingTime',\n",
       "       'TravellingTime ', 'StressLevel ', 'FinancialStatus', 'PartTimeJob?'],\n",
       "      dtype='object')"
      ]
     },
     "execution_count": 153,
     "metadata": {},
     "output_type": "execute_result"
    }
   ],
   "source": [
    "data.columns"
   ]
  },
  {
   "cell_type": "code",
   "execution_count": 154,
   "metadata": {},
   "outputs": [],
   "source": [
    "time1 = []\n",
    "for x in data['DailyStudingTime']:\n",
    "    if x.split()[-1] == \"minute\":\n",
    "        x = float(x.split()[0])\n",
    "    else:\n",
    "        if x.split()[0] == \"More\":\n",
    "            x = 60 * float(x.split()[-2])\n",
    "        else:\n",
    "            x = 60 * float(x.split()[0])\n",
    "    time1.append(x)"
   ]
  },
  {
   "cell_type": "code",
   "execution_count": 155,
   "metadata": {},
   "outputs": [],
   "source": [
    "time2 = []\n",
    "for x in data['GamesSpendingTime']:\n",
    "    if x.split()[-1] == \"Minute\":\n",
    "        x = float(x.split()[0])\n",
    "    else:\n",
    "        if x.split()[0] == \"More\":\n",
    "            x = 60 * float(x.split()[-2])\n",
    "        else:\n",
    "            x = 60 * float(x.split()[0])\n",
    "    time2.append(x)"
   ]
  },
  {
   "cell_type": "code",
   "execution_count": 156,
   "metadata": {},
   "outputs": [],
   "source": [
    "time3 = []\n",
    "for x in data['TravellingTime ']:\n",
    "    if x.split()[-1] == \"Minute\":\n",
    "        x = float(x.split()[0])\n",
    "    else:\n",
    "        if x.split()[0] == \"more\":\n",
    "            x = 60 * float(x.split()[-2])\n",
    "        else:\n",
    "            x = 60 * float(x.split()[0])\n",
    "    time3.append(x)"
   ]
  },
  {
   "cell_type": "code",
   "execution_count": 157,
   "metadata": {},
   "outputs": [],
   "source": [
    "data = data.drop(['DailyStudingTime', 'GamesSpendingTime', 'TravellingTime '], axis=1)"
   ]
  },
  {
   "cell_type": "code",
   "execution_count": 158,
   "metadata": {},
   "outputs": [],
   "source": [
    "data['DailyStudingTime'] = time1\n",
    "data['GamesSpendingTime'] = time2\n",
    "data['TravellingTime'] = time3"
   ]
  },
  {
   "cell_type": "code",
   "execution_count": 159,
   "metadata": {},
   "outputs": [
    {
     "data": {
      "text/html": [
       "<div>\n",
       "<style scoped>\n",
       "    .dataframe tbody tr th:only-of-type {\n",
       "        vertical-align: middle;\n",
       "    }\n",
       "\n",
       "    .dataframe tbody tr th {\n",
       "        vertical-align: top;\n",
       "    }\n",
       "\n",
       "    .dataframe thead th {\n",
       "        text-align: right;\n",
       "    }\n",
       "</style>\n",
       "<table border=\"1\" class=\"dataframe\">\n",
       "  <thead>\n",
       "    <tr style=\"text-align: right;\">\n",
       "      <th></th>\n",
       "      <th>CertificationCourses</th>\n",
       "      <th>Gender</th>\n",
       "      <th>Department</th>\n",
       "      <th>Height(CM)</th>\n",
       "      <th>Weight(KG)</th>\n",
       "      <th>10Mark</th>\n",
       "      <th>12Mark</th>\n",
       "      <th>CollegeMark</th>\n",
       "      <th>Hobbies</th>\n",
       "      <th>PreferToStudyIn</th>\n",
       "      <th>SalaryExpectation</th>\n",
       "      <th>LikeDegree</th>\n",
       "      <th>CareerBasedonDegree</th>\n",
       "      <th>StressLevel</th>\n",
       "      <th>FinancialStatus</th>\n",
       "      <th>PartTimeJob?</th>\n",
       "      <th>DailyStudingTime</th>\n",
       "      <th>GamesSpendingTime</th>\n",
       "      <th>TravellingTime</th>\n",
       "    </tr>\n",
       "  </thead>\n",
       "  <tbody>\n",
       "    <tr>\n",
       "      <th>0</th>\n",
       "      <td>No</td>\n",
       "      <td>Male</td>\n",
       "      <td>BCA</td>\n",
       "      <td>100.0</td>\n",
       "      <td>58.0</td>\n",
       "      <td>79.0</td>\n",
       "      <td>65.0</td>\n",
       "      <td>80.0</td>\n",
       "      <td>Video Games</td>\n",
       "      <td>Morning</td>\n",
       "      <td>40000</td>\n",
       "      <td>No</td>\n",
       "      <td>0.50</td>\n",
       "      <td>Bad</td>\n",
       "      <td>Bad</td>\n",
       "      <td>No</td>\n",
       "      <td>0.0</td>\n",
       "      <td>78.0</td>\n",
       "      <td>1800.0</td>\n",
       "    </tr>\n",
       "    <tr>\n",
       "      <th>1</th>\n",
       "      <td>No</td>\n",
       "      <td>Female</td>\n",
       "      <td>BCA</td>\n",
       "      <td>90.0</td>\n",
       "      <td>40.0</td>\n",
       "      <td>70.0</td>\n",
       "      <td>80.0</td>\n",
       "      <td>70.0</td>\n",
       "      <td>Cinema</td>\n",
       "      <td>Morning</td>\n",
       "      <td>15000</td>\n",
       "      <td>Yes</td>\n",
       "      <td>0.75</td>\n",
       "      <td>Bad</td>\n",
       "      <td>Bad</td>\n",
       "      <td>No</td>\n",
       "      <td>30.0</td>\n",
       "      <td>60.0</td>\n",
       "      <td>0.0</td>\n",
       "    </tr>\n",
       "    <tr>\n",
       "      <th>2</th>\n",
       "      <td>Yes</td>\n",
       "      <td>Male</td>\n",
       "      <td>BCA</td>\n",
       "      <td>159.0</td>\n",
       "      <td>78.0</td>\n",
       "      <td>69.5</td>\n",
       "      <td>61.0</td>\n",
       "      <td>55.0</td>\n",
       "      <td>Cinema</td>\n",
       "      <td>Anytime</td>\n",
       "      <td>13000</td>\n",
       "      <td>Yes</td>\n",
       "      <td>0.50</td>\n",
       "      <td>Awful</td>\n",
       "      <td>Bad</td>\n",
       "      <td>No</td>\n",
       "      <td>60.0</td>\n",
       "      <td>120.0</td>\n",
       "      <td>1800.0</td>\n",
       "    </tr>\n",
       "    <tr>\n",
       "      <th>3</th>\n",
       "      <td>Yes</td>\n",
       "      <td>Female</td>\n",
       "      <td>BCA</td>\n",
       "      <td>147.0</td>\n",
       "      <td>20.0</td>\n",
       "      <td>70.0</td>\n",
       "      <td>59.0</td>\n",
       "      <td>58.0</td>\n",
       "      <td>Reading books</td>\n",
       "      <td>Anytime</td>\n",
       "      <td>1500000</td>\n",
       "      <td>No</td>\n",
       "      <td>0.50</td>\n",
       "      <td>Bad</td>\n",
       "      <td>good</td>\n",
       "      <td>No</td>\n",
       "      <td>60.0</td>\n",
       "      <td>78.0</td>\n",
       "      <td>0.0</td>\n",
       "    </tr>\n",
       "    <tr>\n",
       "      <th>4</th>\n",
       "      <td>No</td>\n",
       "      <td>Male</td>\n",
       "      <td>BCA</td>\n",
       "      <td>170.0</td>\n",
       "      <td>54.0</td>\n",
       "      <td>40.0</td>\n",
       "      <td>65.0</td>\n",
       "      <td>30.0</td>\n",
       "      <td>Video Games</td>\n",
       "      <td>Morning</td>\n",
       "      <td>50000</td>\n",
       "      <td>Yes</td>\n",
       "      <td>0.25</td>\n",
       "      <td>Good</td>\n",
       "      <td>good</td>\n",
       "      <td>No</td>\n",
       "      <td>30.0</td>\n",
       "      <td>78.0</td>\n",
       "      <td>1800.0</td>\n",
       "    </tr>\n",
       "  </tbody>\n",
       "</table>\n",
       "</div>"
      ],
      "text/plain": [
       "  CertificationCourses  Gender Department  Height(CM)  Weight(KG)  10Mark  \\\n",
       "0                   No    Male        BCA       100.0        58.0    79.0   \n",
       "1                   No  Female        BCA        90.0        40.0    70.0   \n",
       "2                  Yes    Male        BCA       159.0        78.0    69.5   \n",
       "3                  Yes  Female        BCA       147.0        20.0    70.0   \n",
       "4                   No    Male        BCA       170.0        54.0    40.0   \n",
       "\n",
       "   12Mark  CollegeMark        Hobbies PreferToStudyIn  SalaryExpectation  \\\n",
       "0    65.0         80.0    Video Games         Morning              40000   \n",
       "1    80.0         70.0         Cinema         Morning              15000   \n",
       "2    61.0         55.0         Cinema         Anytime              13000   \n",
       "3    59.0         58.0  Reading books         Anytime            1500000   \n",
       "4    65.0         30.0    Video Games         Morning              50000   \n",
       "\n",
       "  LikeDegree  CareerBasedonDegree StressLevel  FinancialStatus PartTimeJob?  \\\n",
       "0         No                 0.50          Bad             Bad           No   \n",
       "1        Yes                 0.75          Bad             Bad           No   \n",
       "2        Yes                 0.50        Awful             Bad           No   \n",
       "3         No                 0.50          Bad            good           No   \n",
       "4        Yes                 0.25         Good            good           No   \n",
       "\n",
       "   DailyStudingTime  GamesSpendingTime  TravellingTime  \n",
       "0               0.0               78.0          1800.0  \n",
       "1              30.0               60.0             0.0  \n",
       "2              60.0              120.0          1800.0  \n",
       "3              60.0               78.0             0.0  \n",
       "4              30.0               78.0          1800.0  "
      ]
     },
     "execution_count": 159,
     "metadata": {},
     "output_type": "execute_result"
    }
   ],
   "source": [
    "data.head(5)"
   ]
  },
  {
   "cell_type": "markdown",
   "metadata": {},
   "source": [
    "**Задание 5.**  Выбрете колонки (непрерывные переменные), которые будете использовать для предсказания целевой переменной с помощью knn"
   ]
  },
  {
   "cell_type": "code",
   "execution_count": 160,
   "metadata": {},
   "outputs": [],
   "source": [
    "real_variables = ['Height(CM)', 'Weight(KG)', '10Mark', '12Mark', 'CollegeMark', 'SalaryExpectation', 'CareerBasedonDegree', 'DailyStudingTime', 'GamesSpendingTime', 'TravellingTime']"
   ]
  },
  {
   "cell_type": "markdown",
   "metadata": {},
   "source": [
    "**Задание 6.**  Есть ли в выбранных колонках выбросы? (Пока не нужно их чистить)"
   ]
  },
  {
   "cell_type": "code",
   "execution_count": 161,
   "metadata": {},
   "outputs": [
    {
     "data": {
      "image/png": "[encoded data removed]",
      "text/plain": [
       "<Figure size 1080x1080 with 12 Axes>"
      ]
     },
     "metadata": {
      "needs_background": "light"
     },
     "output_type": "display_data"
    }
   ],
   "source": [
    "_ = data[real_variables].hist(figsize=(15,15))"
   ]
  },
  {
   "cell_type": "markdown",
   "metadata": {},
   "source": [
    "Есть выбросы"
   ]
  },
  {
   "cell_type": "markdown",
   "metadata": {},
   "source": [
    "**Задание 7.**  Как распределена целевая переменная? Нет ли дисбаланса классов? Если есть дисбаланс, какие метрики качества классификатора можно использовать, какие нет? Рассматриваем метрики, которые проходили в рамках курса."
   ]
  },
  {
   "cell_type": "code",
   "execution_count": 162,
   "metadata": {},
   "outputs": [
    {
     "data": {
      "text/plain": [
       "Yes    215\n",
       "No      20\n",
       "Name: LikeDegree, dtype: int64"
      ]
     },
     "execution_count": 162,
     "metadata": {},
     "output_type": "execute_result"
    }
   ],
   "source": [
    "data['LikeDegree'].value_counts()"
   ]
  },
  {
   "cell_type": "markdown",
   "metadata": {},
   "source": [
    "Перевешивает класс Yes более чем в 10 раз, дисбаланс. Можно использовать метрики точности, полноты и F меру. Нельзя использовать accuracy."
   ]
  },
  {
   "cell_type": "markdown",
   "metadata": {},
   "source": [
    "**Задание 8.**  Переведите целевую переменную к численному формату."
   ]
  },
  {
   "cell_type": "code",
   "execution_count": 163,
   "metadata": {},
   "outputs": [],
   "source": [
    "def to_num(x):\n",
    "    if x == 'No':\n",
    "        return 0\n",
    "    else:\n",
    "        return 1"
   ]
  },
  {
   "cell_type": "code",
   "execution_count": 164,
   "metadata": {},
   "outputs": [],
   "source": [
    "data['LikeDegree'] = data.LikeDegree.map(to_num)"
   ]
  },
  {
   "cell_type": "markdown",
   "metadata": {},
   "source": [
    "### Часть 2: Строим модели\n",
    "**Задание 1.** Разбейте выборку на обучающую и тестовую. "
   ]
  },
  {
   "cell_type": "code",
   "execution_count": 165,
   "metadata": {},
   "outputs": [
    {
     "name": "stdout",
     "output_type": "stream",
     "text": [
      "Размер обучающей выборки: (164, 19)\n",
      "Размер тестовой выборки: (71, 19)\n"
     ]
    }
   ],
   "source": [
    "from sklearn.model_selection import train_test_split\n",
    "\n",
    "train, test = train_test_split(data, test_size = 0.3, random_state=201905, stratify=data['LikeDegree'])\n",
    "\n",
    "print(\"Размер обучающей выборки:\", train.shape)\n",
    "print(\"Размер тестовой выборки:\", test.shape)"
   ]
  },
  {
   "cell_type": "markdown",
   "metadata": {},
   "source": [
    "**Задание 2.** Постройте наивную модель предсказания для целевой переменной. Наивная модель - это самая простая модель, без сложных зависимостей. Например, для регрессии наивная модель - среднее для целевой переменной (см. семинар 11). В данном случае наивной моделью может быть преположение \"все студенты (не)довольны\"."
   ]
  },
  {
   "cell_type": "code",
   "execution_count": 166,
   "metadata": {},
   "outputs": [],
   "source": [
    "def naive_model(dataset):\n",
    "    return np.array([1] * dataset.shape[0])"
   ]
  },
  {
   "cell_type": "markdown",
   "metadata": {},
   "source": [
    "**Задание 3.** Постройте модели ближайших соседей для 3, 5, 7 ближайших соседей. "
   ]
  },
  {
   "cell_type": "code",
   "execution_count": 167,
   "metadata": {},
   "outputs": [],
   "source": [
    "X_train = train[real_variables]\n",
    "y_train = train.LikeDegree\n",
    "X_test = test[real_variables]\n",
    "y_test = test.LikeDegree"
   ]
  },
  {
   "cell_type": "code",
   "execution_count": 168,
   "metadata": {},
   "outputs": [
    {
     "data": {
      "text/plain": [
       "KNeighborsClassifier(n_neighbors=7)"
      ]
     },
     "execution_count": 168,
     "metadata": {},
     "output_type": "execute_result"
    }
   ],
   "source": [
    "from sklearn.neighbors import KNeighborsClassifier\n",
    "\n",
    "clf1 = KNeighborsClassifier(n_neighbors = 3)\n",
    "clf1.fit(X_train, y_train)\n",
    "\n",
    "clf2 = KNeighborsClassifier(n_neighbors = 5)\n",
    "clf2.fit(X_train, y_train)\n",
    "\n",
    "clf3 = KNeighborsClassifier(n_neighbors = 7)\n",
    "clf3.fit(X_train, y_train)"
   ]
  },
  {
   "cell_type": "markdown",
   "metadata": {},
   "source": [
    "**Задание 4.** Постройте метрики качества на тестовой выборке (3 известных вам) для моделей из 1 и 2 задания и сравните между собой. Какая победила? "
   ]
  },
  {
   "cell_type": "code",
   "execution_count": 169,
   "metadata": {},
   "outputs": [],
   "source": [
    "from sklearn.metrics import precision_score, recall_score, f1_score\n",
    "import numpy as np"
   ]
  },
  {
   "cell_type": "code",
   "execution_count": 170,
   "metadata": {},
   "outputs": [
    {
     "data": {
      "text/html": [
       "<div>\n",
       "<style scoped>\n",
       "    .dataframe tbody tr th:only-of-type {\n",
       "        vertical-align: middle;\n",
       "    }\n",
       "\n",
       "    .dataframe tbody tr th {\n",
       "        vertical-align: top;\n",
       "    }\n",
       "\n",
       "    .dataframe thead th {\n",
       "        text-align: right;\n",
       "    }\n",
       "</style>\n",
       "<table border=\"1\" class=\"dataframe\">\n",
       "  <thead>\n",
       "    <tr style=\"text-align: right;\">\n",
       "      <th></th>\n",
       "      <th>model</th>\n",
       "      <th>precision</th>\n",
       "      <th>recall</th>\n",
       "      <th>f1</th>\n",
       "    </tr>\n",
       "  </thead>\n",
       "  <tbody>\n",
       "    <tr>\n",
       "      <th>0</th>\n",
       "      <td>наивная модель</td>\n",
       "      <td>0.915493</td>\n",
       "      <td>1.000000</td>\n",
       "      <td>0.955882</td>\n",
       "    </tr>\n",
       "    <tr>\n",
       "      <th>1</th>\n",
       "      <td>3 соседа</td>\n",
       "      <td>0.913043</td>\n",
       "      <td>0.969231</td>\n",
       "      <td>0.940299</td>\n",
       "    </tr>\n",
       "    <tr>\n",
       "      <th>2</th>\n",
       "      <td>5 соседей</td>\n",
       "      <td>0.915493</td>\n",
       "      <td>1.000000</td>\n",
       "      <td>0.955882</td>\n",
       "    </tr>\n",
       "    <tr>\n",
       "      <th>3</th>\n",
       "      <td>7 соседей</td>\n",
       "      <td>0.915493</td>\n",
       "      <td>1.000000</td>\n",
       "      <td>0.955882</td>\n",
       "    </tr>\n",
       "  </tbody>\n",
       "</table>\n",
       "</div>"
      ],
      "text/plain": [
       "            model  precision    recall        f1\n",
       "0  наивная модель   0.915493  1.000000  0.955882\n",
       "1        3 соседа   0.913043  0.969231  0.940299\n",
       "2       5 соседей   0.915493  1.000000  0.955882\n",
       "3       7 соседей   0.915493  1.000000  0.955882"
      ]
     },
     "execution_count": 170,
     "metadata": {},
     "output_type": "execute_result"
    }
   ],
   "source": [
    "df1 = pd.DataFrame([], columns=['model', 'precision', 'recall', 'f1'])\n",
    "row1 = {'model': 'наивная модель', 'precision': precision_score(y_test, naive_model(X_test)), 'recall': recall_score(y_test, naive_model(X_test)), 'f1': f1_score(y_test, naive_model(X_test))}\n",
    "row2 = {'model': '3 соседа', 'precision': precision_score(y_test, clf1.predict(X_test)), 'recall': recall_score(y_test, clf1.predict(X_test)), 'f1': f1_score(y_test, clf1.predict(X_test))}\n",
    "row3 = {'model': '5 соседей', 'precision': precision_score(y_test, clf2.predict(X_test)), 'recall': recall_score(y_test, clf2.predict(X_test)), 'f1': f1_score(y_test, clf2.predict(X_test))}\n",
    "row4 = {'model': '7 соседей', 'precision': precision_score(y_test, clf3.predict(X_test)), 'recall': recall_score(y_test, clf3.predict(X_test)), 'f1': f1_score(y_test, clf3.predict(X_test))}\n",
    "df1 = df1.append([row1, row2, row3, row4])\n",
    "df1"
   ]
  },
  {
   "cell_type": "code",
   "execution_count": 171,
   "metadata": {},
   "outputs": [
    {
     "data": {
      "text/plain": [
       "1    0.915493\n",
       "0    0.084507\n",
       "Name: LikeDegree, dtype: float64"
      ]
     },
     "execution_count": 171,
     "metadata": {},
     "output_type": "execute_result"
    }
   ],
   "source": [
    "y_test.value_counts() / y_test.shape[0]"
   ]
  },
  {
   "cell_type": "markdown",
   "metadata": {},
   "source": [
    "4 модели дают одинаковый результат. Из-за дисбаланса определяются все объекты к большому классу. Точность соответстует доле большого класса, а полнота равна 1. Модель с тремя соседями имеет худщий результат, отличный от других"
   ]
  },
  {
   "cell_type": "markdown",
   "metadata": {},
   "source": [
    "**Задание 5.** Примените шкалирование (MinMax, обучите его на обучающей выборке к факторам, затем примените к тестовой), снова постройте модели для нескольких вариантов соседей (3, 5, 7). Помогло ли шкалирование? "
   ]
  },
  {
   "cell_type": "code",
   "execution_count": 172,
   "metadata": {},
   "outputs": [],
   "source": [
    "from sklearn.preprocessing import MinMaxScaler\n",
    "\n",
    "scaler = MinMaxScaler()\n",
    "scaler.fit(X_train)\n",
    "X_train = pd.DataFrame(data=scaler.transform(X_train))\n",
    "X_test = pd.DataFrame(data=scaler.transform(X_test))"
   ]
  },
  {
   "cell_type": "code",
   "execution_count": 173,
   "metadata": {},
   "outputs": [
    {
     "data": {
      "text/plain": [
       "KNeighborsClassifier(n_neighbors=7)"
      ]
     },
     "execution_count": 173,
     "metadata": {},
     "output_type": "execute_result"
    }
   ],
   "source": [
    "clf1 = KNeighborsClassifier(n_neighbors = 3)\n",
    "clf1.fit(X_train, y_train)\n",
    "\n",
    "clf2 = KNeighborsClassifier(n_neighbors = 5)\n",
    "clf2.fit(X_train, y_train)\n",
    "\n",
    "clf3 = KNeighborsClassifier(n_neighbors = 7)\n",
    "clf3.fit(X_train, y_train)"
   ]
  },
  {
   "cell_type": "code",
   "execution_count": 174,
   "metadata": {},
   "outputs": [
    {
     "data": {
      "text/html": [
       "<div>\n",
       "<style scoped>\n",
       "    .dataframe tbody tr th:only-of-type {\n",
       "        vertical-align: middle;\n",
       "    }\n",
       "\n",
       "    .dataframe tbody tr th {\n",
       "        vertical-align: top;\n",
       "    }\n",
       "\n",
       "    .dataframe thead th {\n",
       "        text-align: right;\n",
       "    }\n",
       "</style>\n",
       "<table border=\"1\" class=\"dataframe\">\n",
       "  <thead>\n",
       "    <tr style=\"text-align: right;\">\n",
       "      <th></th>\n",
       "      <th>model</th>\n",
       "      <th>precision</th>\n",
       "      <th>recall</th>\n",
       "      <th>f1</th>\n",
       "    </tr>\n",
       "  </thead>\n",
       "  <tbody>\n",
       "    <tr>\n",
       "      <th>0</th>\n",
       "      <td>3 соседа</td>\n",
       "      <td>0.915493</td>\n",
       "      <td>1.0</td>\n",
       "      <td>0.955882</td>\n",
       "    </tr>\n",
       "    <tr>\n",
       "      <th>1</th>\n",
       "      <td>5 соседей</td>\n",
       "      <td>0.915493</td>\n",
       "      <td>1.0</td>\n",
       "      <td>0.955882</td>\n",
       "    </tr>\n",
       "    <tr>\n",
       "      <th>2</th>\n",
       "      <td>7 соседей</td>\n",
       "      <td>0.915493</td>\n",
       "      <td>1.0</td>\n",
       "      <td>0.955882</td>\n",
       "    </tr>\n",
       "  </tbody>\n",
       "</table>\n",
       "</div>"
      ],
      "text/plain": [
       "       model  precision  recall        f1\n",
       "0   3 соседа   0.915493     1.0  0.955882\n",
       "1  5 соседей   0.915493     1.0  0.955882\n",
       "2  7 соседей   0.915493     1.0  0.955882"
      ]
     },
     "execution_count": 174,
     "metadata": {},
     "output_type": "execute_result"
    }
   ],
   "source": [
    "df2 = pd.DataFrame([], columns=['model', 'precision', 'recall', 'f1'])\n",
    "row2 = {'model': '3 соседа', 'precision': precision_score(y_test, clf1.predict(X_test)), 'recall': recall_score(y_test, clf1.predict(X_test)), 'f1': f1_score(y_test, clf1.predict(X_test))}\n",
    "row3 = {'model': '5 соседей', 'precision': precision_score(y_test, clf2.predict(X_test)), 'recall': recall_score(y_test, clf2.predict(X_test)), 'f1': f1_score(y_test, clf2.predict(X_test))}\n",
    "row4 = {'model': '7 соседей', 'precision': precision_score(y_test, clf3.predict(X_test)), 'recall': recall_score(y_test, clf3.predict(X_test)), 'f1': f1_score(y_test, clf3.predict(X_test))}\n",
    "df2 = df2.append([row2, row3, row4])\n",
    "df2"
   ]
  },
  {
   "cell_type": "markdown",
   "metadata": {},
   "source": [
    "Все модели имеют одинаковый результат."
   ]
  },
  {
   "cell_type": "markdown",
   "metadata": {},
   "source": [
    "**Задание 6.** Избавьтесь от выбросов в исходной выборке, затем снова разделите ее на тестовую и обучающую, постройте модель для нескольких вариантов числа соседей(3, 5, 7). Какое число соседей лучшее и почему? Улучшилось ли качество модели по сравнению со лучшей моделью, в которой было применено шкалирование из задания 5?"
   ]
  },
  {
   "cell_type": "code",
   "execution_count": 175,
   "metadata": {},
   "outputs": [],
   "source": [
    "data[real_variables] = data[real_variables].apply(lambda w: np.log(w + 1))"
   ]
  },
  {
   "cell_type": "code",
   "execution_count": 182,
   "metadata": {},
   "outputs": [
    {
     "data": {
      "image/png": "[encoded data removed]",
      "text/plain": [
       "<Figure size 1080x1080 with 12 Axes>"
      ]
     },
     "metadata": {
      "needs_background": "light"
     },
     "output_type": "display_data"
    }
   ],
   "source": [
    "_ = data.hist(figsize=(15,15))"
   ]
  },
  {
   "cell_type": "code",
   "execution_count": 183,
   "metadata": {},
   "outputs": [],
   "source": [
    "train, test = train_test_split(data, test_size = 0.3, random_state=201905, stratify=data['LikeDegree'])"
   ]
  },
  {
   "cell_type": "code",
   "execution_count": 184,
   "metadata": {},
   "outputs": [],
   "source": [
    "X_train = train[real_variables]\n",
    "y_train = train.LikeDegree\n",
    "X_test = test[real_variables]\n",
    "y_test = test.LikeDegree"
   ]
  },
  {
   "cell_type": "code",
   "execution_count": 185,
   "metadata": {},
   "outputs": [
    {
     "data": {
      "text/plain": [
       "KNeighborsClassifier(n_neighbors=7)"
      ]
     },
     "execution_count": 185,
     "metadata": {},
     "output_type": "execute_result"
    }
   ],
   "source": [
    "clf1 = KNeighborsClassifier(n_neighbors = 3)\n",
    "clf1.fit(X_train, y_train)\n",
    "\n",
    "clf2 = KNeighborsClassifier(n_neighbors = 5)\n",
    "clf2.fit(X_train, y_train)\n",
    "\n",
    "clf3 = KNeighborsClassifier(n_neighbors = 7)\n",
    "clf3.fit(X_train, y_train)"
   ]
  },
  {
   "cell_type": "code",
   "execution_count": 186,
   "metadata": {},
   "outputs": [
    {
     "data": {
      "text/html": [
       "<div>\n",
       "<style scoped>\n",
       "    .dataframe tbody tr th:only-of-type {\n",
       "        vertical-align: middle;\n",
       "    }\n",
       "\n",
       "    .dataframe tbody tr th {\n",
       "        vertical-align: top;\n",
       "    }\n",
       "\n",
       "    .dataframe thead th {\n",
       "        text-align: right;\n",
       "    }\n",
       "</style>\n",
       "<table border=\"1\" class=\"dataframe\">\n",
       "  <thead>\n",
       "    <tr style=\"text-align: right;\">\n",
       "      <th></th>\n",
       "      <th>model</th>\n",
       "      <th>precision</th>\n",
       "      <th>recall</th>\n",
       "      <th>f1</th>\n",
       "    </tr>\n",
       "  </thead>\n",
       "  <tbody>\n",
       "    <tr>\n",
       "      <th>0</th>\n",
       "      <td>3 соседа</td>\n",
       "      <td>0.914286</td>\n",
       "      <td>0.984615</td>\n",
       "      <td>0.948148</td>\n",
       "    </tr>\n",
       "    <tr>\n",
       "      <th>1</th>\n",
       "      <td>5 соседей</td>\n",
       "      <td>0.915493</td>\n",
       "      <td>1.000000</td>\n",
       "      <td>0.955882</td>\n",
       "    </tr>\n",
       "    <tr>\n",
       "      <th>2</th>\n",
       "      <td>7 соседей</td>\n",
       "      <td>0.915493</td>\n",
       "      <td>1.000000</td>\n",
       "      <td>0.955882</td>\n",
       "    </tr>\n",
       "  </tbody>\n",
       "</table>\n",
       "</div>"
      ],
      "text/plain": [
       "       model  precision    recall        f1\n",
       "0   3 соседа   0.914286  0.984615  0.948148\n",
       "1  5 соседей   0.915493  1.000000  0.955882\n",
       "2  7 соседей   0.915493  1.000000  0.955882"
      ]
     },
     "execution_count": 186,
     "metadata": {},
     "output_type": "execute_result"
    }
   ],
   "source": [
    "df3 = pd.DataFrame([], columns=['model', 'precision', 'recall', 'f1'])\n",
    "row2 = {'model': '3 соседа', 'precision': precision_score(y_test, clf1.predict(X_test)), 'recall': recall_score(y_test, clf1.predict(X_test)), 'f1': f1_score(y_test, clf1.predict(X_test))}\n",
    "row3 = {'model': '5 соседей', 'precision': precision_score(y_test, clf2.predict(X_test)), 'recall': recall_score(y_test, clf2.predict(X_test)), 'f1': f1_score(y_test, clf2.predict(X_test))}\n",
    "row4 = {'model': '7 соседей', 'precision': precision_score(y_test, clf3.predict(X_test)), 'recall': recall_score(y_test, clf3.predict(X_test)), 'f1': f1_score(y_test, clf3.predict(X_test))}\n",
    "df3= df3.append([row2, row3, row4])\n",
    "df3"
   ]
  },
  {
   "cell_type": "markdown",
   "metadata": {},
   "source": [
    "**Задание 7.** Какая конфигурация модели получилась лучшей? Почему?Выбираем из всех построенных моделей, не забудьте про наивный прогноз и все рассмотренне варианты числа соседей. "
   ]
  },
  {
   "cell_type": "markdown",
   "metadata": {},
   "source": [
    "Учитывая, что в данных сильный дисбаланс классов, мы оценивали качество по трем метрикам: precision, recall, f1. Из-за большого перевеса одного класса, модели определяют только его (полнота 1, а точность соответствует доле этого класса), такие показатели дает и наивная модель. Лучшая конфигурация - модель с 3 ближайщими соседями на данных без выбросов. Она не работает как наивная модель. 5 и 7 соседей это много для маленького класса в нашей небольшой выборке.\n",
    "Модель с тремя соседями после шкалирования показывала отличный от наивной модели результат, но точность и полнота все-таки выше на данных без выбросов. Думаю, для улучшения качества стоит рассмотреть шкалирование на данных без выброса, потому что шкалировние влияет на вычисление расстояния в knn."
   ]
  },
  {
   "cell_type": "code",
   "execution_count": 79,
   "metadata": {},
   "outputs": [
    {
     "data": {
      "text/plain": [
       "0.5841905229354073"
      ]
     },
     "execution_count": 79,
     "metadata": {},
     "output_type": "execute_result"
    }
   ],
   "source": [
    "1/(1+np.exp(-(0.2+0.12*4-0.01*34)))"
   ]
  },
  {
   "cell_type": "code",
   "execution_count": 80,
   "metadata": {},
   "outputs": [
    {
     "data": {
      "text/plain": [
       "555.1"
      ]
     },
     "execution_count": 80,
     "metadata": {},
     "output_type": "execute_result"
    }
   ],
   "source": [
    "560 - 1.96*np.sqrt(625/100)"
   ]
  },
  {
   "cell_type": "code",
   "execution_count": null,
   "metadata": {},
   "outputs": [],
   "source": []
  },
  {
   "cell_type": "markdown",
   "metadata": {},
   "source": [
    "17"
   ]
  },
  {
   "cell_type": "code",
   "execution_count": 81,
   "metadata": {},
   "outputs": [],
   "source": [
    "from scipy import stats"
   ]
  },
  {
   "cell_type": "code",
   "execution_count": 82,
   "metadata": {},
   "outputs": [],
   "source": [
    "a = [13.53,  8.69, 14.98,  6.15, 11.36, 10.82,   8.98, 13.53, 16.91,  7.01]\n",
    "b = [10.68, 12.64, 12.43, 10.79, 10.81, 17.64,  11.96, 16.00, 12.92, 13.49]"
   ]
  },
  {
   "cell_type": "code",
   "execution_count": 83,
   "metadata": {},
   "outputs": [
    {
     "data": {
      "text/plain": [
       "Ttest_indResult(statistic=-1.3068755687909026, pvalue=0.20770574095332278)"
      ]
     },
     "execution_count": 83,
     "metadata": {},
     "output_type": "execute_result"
    }
   ],
   "source": [
    "stats.ttest_ind(a, b)"
   ]
  },
  {
   "cell_type": "code",
   "execution_count": 2,
   "metadata": {},
   "outputs": [],
   "source": [
    "import numpy as np"
   ]
  },
  {
   "cell_type": "code",
   "execution_count": 16,
   "metadata": {},
   "outputs": [
    {
     "data": {
      "text/plain": [
       "0.21115699454515027"
      ]
     },
     "execution_count": 16,
     "metadata": {},
     "output_type": "execute_result"
    }
   ],
   "source": [
    "(np.mean(a) - np.mean(b)) / (np.sqrt(np.var(a)/len(a) + np.var(b)/len(b)))"
   ]
  },
  {
   "cell_type": "code",
   "execution_count": null,
   "metadata": {},
   "outputs": [],
   "source": []
  },
  {
   "cell_type": "markdown",
   "metadata": {},
   "source": [
    "18"
   ]
  },
  {
   "cell_type": "code",
   "execution_count": 13,
   "metadata": {},
   "outputs": [
    {
     "data": {
      "text/plain": [
       "array([[1.        , 0.35808202],\n",
       "       [0.35808202, 1.        ]])"
      ]
     },
     "execution_count": 13,
     "metadata": {},
     "output_type": "execute_result"
    }
   ],
   "source": [
    "x = [1, 10, 5, 7, 6, 4, 4, 4, 8, 9, 10]\n",
    "y = [2, 4, 5, 4, 3, 3, 5, 2, 1, 5, 5]\n",
    "\n",
    "\n",
    "np.corrcoef(x, y)"
   ]
  },
  {
   "cell_type": "code",
   "execution_count": null,
   "metadata": {},
   "outputs": [],
   "source": []
  },
  {
   "cell_type": "markdown",
   "metadata": {},
   "source": [
    "19"
   ]
  },
  {
   "cell_type": "code",
   "execution_count": 14,
   "metadata": {},
   "outputs": [
    {
     "data": {
      "text/plain": [
       "Power_divergenceResult(statistic=143.8228637034607, pvalue=5.878438256989387e-32)"
      ]
     },
     "execution_count": 14,
     "metadata": {},
     "output_type": "execute_result"
    }
   ],
   "source": [
    "stats.chisquare([25, 34, 47], [67, 14, 13])"
   ]
  },
  {
   "cell_type": "code",
   "execution_count": 27,
   "metadata": {},
   "outputs": [],
   "source": [
    "#410.83"
   ]
  },
  {
   "cell_type": "markdown",
   "metadata": {},
   "source": [
    "20"
   ]
  },
  {
   "cell_type": "code",
   "execution_count": 16,
   "metadata": {},
   "outputs": [
    {
     "data": {
      "text/html": [
       "<div>\n",
       "<style scoped>\n",
       "    .dataframe tbody tr th:only-of-type {\n",
       "        vertical-align: middle;\n",
       "    }\n",
       "\n",
       "    .dataframe tbody tr th {\n",
       "        vertical-align: top;\n",
       "    }\n",
       "\n",
       "    .dataframe thead th {\n",
       "        text-align: right;\n",
       "    }\n",
       "</style>\n",
       "<table border=\"1\" class=\"dataframe\">\n",
       "  <thead>\n",
       "    <tr style=\"text-align: right;\">\n",
       "      <th></th>\n",
       "      <th>Country</th>\n",
       "      <th>Region</th>\n",
       "      <th>Hemisphere</th>\n",
       "      <th>HappinessScore</th>\n",
       "      <th>HDI</th>\n",
       "      <th>GDP_PerCapita</th>\n",
       "      <th>Beer_PerCapita</th>\n",
       "      <th>Spirit_PerCapita</th>\n",
       "      <th>Wine_PerCapita</th>\n",
       "    </tr>\n",
       "  </thead>\n",
       "  <tbody>\n",
       "    <tr>\n",
       "      <th>0</th>\n",
       "      <td>Denmark</td>\n",
       "      <td>Western Europe</td>\n",
       "      <td>north</td>\n",
       "      <td>7.526</td>\n",
       "      <td>928</td>\n",
       "      <td>53.579</td>\n",
       "      <td>224</td>\n",
       "      <td>81.0</td>\n",
       "      <td>278</td>\n",
       "    </tr>\n",
       "    <tr>\n",
       "      <th>1</th>\n",
       "      <td>Switzerland</td>\n",
       "      <td>Western Europe</td>\n",
       "      <td>north</td>\n",
       "      <td>7.509</td>\n",
       "      <td>943</td>\n",
       "      <td>79.866</td>\n",
       "      <td>185</td>\n",
       "      <td>100.0</td>\n",
       "      <td>280</td>\n",
       "    </tr>\n",
       "    <tr>\n",
       "      <th>2</th>\n",
       "      <td>Iceland</td>\n",
       "      <td>Western Europe</td>\n",
       "      <td>north</td>\n",
       "      <td>7.501</td>\n",
       "      <td>933</td>\n",
       "      <td>60.530</td>\n",
       "      <td>233</td>\n",
       "      <td>61.0</td>\n",
       "      <td>78</td>\n",
       "    </tr>\n",
       "    <tr>\n",
       "      <th>3</th>\n",
       "      <td>Norway</td>\n",
       "      <td>Western Europe</td>\n",
       "      <td>north</td>\n",
       "      <td>7.498</td>\n",
       "      <td>951</td>\n",
       "      <td>70.890</td>\n",
       "      <td>169</td>\n",
       "      <td>71.0</td>\n",
       "      <td>129</td>\n",
       "    </tr>\n",
       "    <tr>\n",
       "      <th>4</th>\n",
       "      <td>Finland</td>\n",
       "      <td>Western Europe</td>\n",
       "      <td>north</td>\n",
       "      <td>7.413</td>\n",
       "      <td>918</td>\n",
       "      <td>43.433</td>\n",
       "      <td>263</td>\n",
       "      <td>133.0</td>\n",
       "      <td>97</td>\n",
       "    </tr>\n",
       "  </tbody>\n",
       "</table>\n",
       "</div>"
      ],
      "text/plain": [
       "       Country          Region Hemisphere  HappinessScore  HDI  GDP_PerCapita  \\\n",
       "0      Denmark  Western Europe      north           7.526  928         53.579   \n",
       "1  Switzerland  Western Europe      north           7.509  943         79.866   \n",
       "2      Iceland  Western Europe      north           7.501  933         60.530   \n",
       "3       Norway  Western Europe      north           7.498  951         70.890   \n",
       "4      Finland  Western Europe      north           7.413  918         43.433   \n",
       "\n",
       "   Beer_PerCapita  Spirit_PerCapita  Wine_PerCapita  \n",
       "0             224              81.0             278  \n",
       "1             185             100.0             280  \n",
       "2             233              61.0              78  \n",
       "3             169              71.0             129  \n",
       "4             263             133.0              97  "
      ]
     },
     "execution_count": 16,
     "metadata": {},
     "output_type": "execute_result"
    }
   ],
   "source": [
    "data = pd.read_csv(\"c.csv\")\n",
    "data.head()"
   ]
  },
  {
   "cell_type": "code",
   "execution_count": 19,
   "metadata": {},
   "outputs": [
    {
     "data": {
      "text/plain": [
       "count    122.000000\n",
       "mean     137.565574\n",
       "std      104.817353\n",
       "min        1.000000\n",
       "25%       38.250000\n",
       "50%      125.500000\n",
       "75%      224.750000\n",
       "max      376.000000\n",
       "Name: Beer_PerCapita, dtype: float64"
      ]
     },
     "execution_count": 19,
     "metadata": {},
     "output_type": "execute_result"
    }
   ],
   "source": [
    "data.Beer_PerCapita.describe()"
   ]
  },
  {
   "cell_type": "code",
   "execution_count": 20,
   "metadata": {},
   "outputs": [
    {
     "data": {
      "text/plain": [
       "Sub-Saharan Africa                 28\n",
       "Central and Eastern Europe         27\n",
       "Latin America and Caribbean        23\n",
       "Western Europe                     20\n",
       "Middle East and Northern Africa    11\n",
       "Southeastern Asia                   5\n",
       "Eastern Asia                        4\n",
       "Australia and New Zealand           2\n",
       "North America                       2\n",
       "Name: Region, dtype: int64"
      ]
     },
     "execution_count": 20,
     "metadata": {},
     "output_type": "execute_result"
    }
   ],
   "source": [
    "data.Region.value_counts()"
   ]
  },
  {
   "cell_type": "code",
   "execution_count": null,
   "metadata": {},
   "outputs": [],
   "source": []
  },
  {
   "cell_type": "code",
   "execution_count": 21,
   "metadata": {},
   "outputs": [
    {
     "data": {
      "text/plain": [
       "0.3360655737704918"
      ]
     },
     "execution_count": 21,
     "metadata": {},
     "output_type": "execute_result"
    }
   ],
   "source": [
    "new_col = data[\"HappinessScore\"].copy()\n",
    "new_col[new_col > 6] = 1\n",
    "new_col[new_col != 1] = 0\n",
    "new_col = new_col.astype('int')\n",
    "data['Happiness_coded'] = new_col\n",
    "new_col.mean()"
   ]
  },
  {
   "cell_type": "code",
   "execution_count": 23,
   "metadata": {},
   "outputs": [
    {
     "data": {
      "text/html": [
       "<div>\n",
       "<style scoped>\n",
       "    .dataframe tbody tr th:only-of-type {\n",
       "        vertical-align: middle;\n",
       "    }\n",
       "\n",
       "    .dataframe tbody tr th {\n",
       "        vertical-align: top;\n",
       "    }\n",
       "\n",
       "    .dataframe thead th {\n",
       "        text-align: right;\n",
       "    }\n",
       "</style>\n",
       "<table border=\"1\" class=\"dataframe\">\n",
       "  <thead>\n",
       "    <tr style=\"text-align: right;\">\n",
       "      <th></th>\n",
       "      <th>Country</th>\n",
       "      <th>Region</th>\n",
       "      <th>Hemisphere</th>\n",
       "      <th>HappinessScore</th>\n",
       "      <th>HDI</th>\n",
       "      <th>GDP_PerCapita</th>\n",
       "      <th>Beer_PerCapita</th>\n",
       "      <th>Spirit_PerCapita</th>\n",
       "      <th>Wine_PerCapita</th>\n",
       "      <th>Happiness_coded</th>\n",
       "    </tr>\n",
       "  </thead>\n",
       "  <tbody>\n",
       "    <tr>\n",
       "      <th>0</th>\n",
       "      <td>Denmark</td>\n",
       "      <td>Western Europe</td>\n",
       "      <td>north</td>\n",
       "      <td>7.526</td>\n",
       "      <td>928</td>\n",
       "      <td>53.579</td>\n",
       "      <td>224</td>\n",
       "      <td>81.0</td>\n",
       "      <td>278</td>\n",
       "      <td>1</td>\n",
       "    </tr>\n",
       "    <tr>\n",
       "      <th>1</th>\n",
       "      <td>Switzerland</td>\n",
       "      <td>Western Europe</td>\n",
       "      <td>north</td>\n",
       "      <td>7.509</td>\n",
       "      <td>943</td>\n",
       "      <td>79.866</td>\n",
       "      <td>185</td>\n",
       "      <td>100.0</td>\n",
       "      <td>280</td>\n",
       "      <td>1</td>\n",
       "    </tr>\n",
       "    <tr>\n",
       "      <th>2</th>\n",
       "      <td>Iceland</td>\n",
       "      <td>Western Europe</td>\n",
       "      <td>north</td>\n",
       "      <td>7.501</td>\n",
       "      <td>933</td>\n",
       "      <td>60.530</td>\n",
       "      <td>233</td>\n",
       "      <td>61.0</td>\n",
       "      <td>78</td>\n",
       "      <td>1</td>\n",
       "    </tr>\n",
       "    <tr>\n",
       "      <th>3</th>\n",
       "      <td>Norway</td>\n",
       "      <td>Western Europe</td>\n",
       "      <td>north</td>\n",
       "      <td>7.498</td>\n",
       "      <td>951</td>\n",
       "      <td>70.890</td>\n",
       "      <td>169</td>\n",
       "      <td>71.0</td>\n",
       "      <td>129</td>\n",
       "      <td>1</td>\n",
       "    </tr>\n",
       "    <tr>\n",
       "      <th>4</th>\n",
       "      <td>Finland</td>\n",
       "      <td>Western Europe</td>\n",
       "      <td>north</td>\n",
       "      <td>7.413</td>\n",
       "      <td>918</td>\n",
       "      <td>43.433</td>\n",
       "      <td>263</td>\n",
       "      <td>133.0</td>\n",
       "      <td>97</td>\n",
       "      <td>1</td>\n",
       "    </tr>\n",
       "  </tbody>\n",
       "</table>\n",
       "</div>"
      ],
      "text/plain": [
       "       Country          Region Hemisphere  HappinessScore  HDI  GDP_PerCapita  \\\n",
       "0      Denmark  Western Europe      north           7.526  928         53.579   \n",
       "1  Switzerland  Western Europe      north           7.509  943         79.866   \n",
       "2      Iceland  Western Europe      north           7.501  933         60.530   \n",
       "3       Norway  Western Europe      north           7.498  951         70.890   \n",
       "4      Finland  Western Europe      north           7.413  918         43.433   \n",
       "\n",
       "   Beer_PerCapita  Spirit_PerCapita  Wine_PerCapita  Happiness_coded  \n",
       "0             224              81.0             278                1  \n",
       "1             185             100.0             280                1  \n",
       "2             233              61.0              78                1  \n",
       "3             169              71.0             129                1  \n",
       "4             263             133.0              97                1  "
      ]
     },
     "execution_count": 23,
     "metadata": {},
     "output_type": "execute_result"
    }
   ],
   "source": [
    "data.head()"
   ]
  },
  {
   "cell_type": "code",
   "execution_count": 24,
   "metadata": {},
   "outputs": [
    {
     "data": {
      "text/plain": [
       "760.4270833333334"
      ]
     },
     "execution_count": 24,
     "metadata": {},
     "output_type": "execute_result"
    }
   ],
   "source": [
    "data.HDI[(data.Hemisphere ==\"north\")].mean()"
   ]
  },
  {
   "cell_type": "code",
   "execution_count": 25,
   "metadata": {},
   "outputs": [
    {
     "data": {
      "text/plain": [
       "16"
      ]
     },
     "execution_count": 25,
     "metadata": {},
     "output_type": "execute_result"
    }
   ],
   "source": [
    "data.Spirit_PerCapita.isna().sum()"
   ]
  },
  {
   "cell_type": "code",
   "execution_count": null,
   "metadata": {},
   "outputs": [],
   "source": []
  },
  {
   "cell_type": "code",
   "execution_count": 26,
   "metadata": {},
   "outputs": [],
   "source": [
    "dev = data.developer.copy()\n",
    "dev = dev.filna('Ubisoft') #Ubisoft -мода"
   ]
  },
  {
   "cell_type": "code",
   "execution_count": 32,
   "metadata": {},
   "outputs": [],
   "source": [
    "dev11 = dev.fillna(dev.median()) #Ubisoft -мода"
   ]
  },
  {
   "cell_type": "code",
   "execution_count": 38,
   "metadata": {},
   "outputs": [
    {
     "data": {
      "text/plain": [
       "53"
      ]
     },
     "execution_count": 38,
     "metadata": {},
     "output_type": "execute_result"
    }
   ],
   "source": [
    "dev11[dev11 > dev11.median()].count()"
   ]
  },
  {
   "cell_type": "code",
   "execution_count": null,
   "metadata": {},
   "outputs": [],
   "source": []
  },
  {
   "cell_type": "code",
   "execution_count": null,
   "metadata": {},
   "outputs": [],
   "source": [
    "dev.value_counts()"
   ]
  },
  {
   "cell_type": "code",
   "execution_count": null,
   "metadata": {},
   "outputs": [],
   "source": []
  },
  {
   "cell_type": "code",
   "execution_count": 44,
   "metadata": {},
   "outputs": [],
   "source": [
    "import matplotlib.pyplot as plt"
   ]
  },
  {
   "cell_type": "code",
   "execution_count": 47,
   "metadata": {},
   "outputs": [
    {
     "data": {
      "text/plain": [
       "<matplotlib.collections.PathCollection at 0x12d81bde0a0>"
      ]
     },
     "execution_count": 47,
     "metadata": {},
     "output_type": "execute_result"
    },
    {
     "data": {
      "image/png": "[encoded data removed]",
      "text/plain": [
       "<Figure size 432x288 with 1 Axes>"
      ]
     },
     "metadata": {
      "needs_background": "light"
     },
     "output_type": "display_data"
    }
   ],
   "source": [
    "#рассеяния\n",
    "plt.scatter(data.Beer_PerCapita, data.Wine_PerCapita)"
   ]
  },
  {
   "cell_type": "code",
   "execution_count": 48,
   "metadata": {},
   "outputs": [
    {
     "data": {
      "text/plain": [
       "HappinessScore      1.000000\n",
       "HDI                 0.815163\n",
       "GDP_PerCapita       0.395246\n",
       "Beer_PerCapita      0.493367\n",
       "Spirit_PerCapita    0.256449\n",
       "Wine_PerCapita      0.450589\n",
       "Happiness_coded     0.799635\n",
       "Name: HappinessScore, dtype: float64"
      ]
     },
     "execution_count": 48,
     "metadata": {},
     "output_type": "execute_result"
    }
   ],
   "source": [
    "data.corr().abs().loc['HappinessScore']"
   ]
  },
  {
   "cell_type": "code",
   "execution_count": 49,
   "metadata": {},
   "outputs": [
    {
     "data": {
      "text/plain": [
       "0      224\n",
       "1      185\n",
       "2      233\n",
       "3      169\n",
       "4      263\n",
       "      ... \n",
       "117     36\n",
       "118     19\n",
       "119     34\n",
       "120     36\n",
       "121      5\n",
       "Name: Beer_PerCapita, Length: 122, dtype: int64"
      ]
     },
     "execution_count": 49,
     "metadata": {},
     "output_type": "execute_result"
    }
   ],
   "source": [
    "(data.Beer_PerCapita)"
   ]
  },
  {
   "cell_type": "code",
   "execution_count": 57,
   "metadata": {},
   "outputs": [],
   "source": [
    "y = data.HappinessScore\n",
    "X = np.array((data.Beer_PerCapita)**2).reshape(-1,1)"
   ]
  },
  {
   "cell_type": "code",
   "execution_count": 58,
   "metadata": {},
   "outputs": [],
   "source": [
    "from sklearn.linear_model import LinearRegression"
   ]
  },
  {
   "cell_type": "code",
   "execution_count": 63,
   "metadata": {},
   "outputs": [
    {
     "data": {
      "text/plain": [
       "LinearRegression()"
      ]
     },
     "execution_count": 63,
     "metadata": {},
     "output_type": "execute_result"
    }
   ],
   "source": [
    "lr = LinearRegression()\n",
    "lr.fit(X, y)"
   ]
  },
  {
   "cell_type": "code",
   "execution_count": 65,
   "metadata": {},
   "outputs": [
    {
     "data": {
      "text/plain": [
       "array([1.28844225e-05])"
      ]
     },
     "execution_count": 65,
     "metadata": {},
     "output_type": "execute_result"
    }
   ],
   "source": [
    "lr.coef_  #коэф при х\n",
    " #коэф при свободном члене"
   ]
  },
  {
   "cell_type": "code",
   "execution_count": 66,
   "metadata": {},
   "outputs": [
    {
     "data": {
      "text/plain": [
       "5.140602666786802"
      ]
     },
     "execution_count": 66,
     "metadata": {},
     "output_type": "execute_result"
    }
   ],
   "source": [
    "lr.intercept_"
   ]
  },
  {
   "cell_type": "code",
   "execution_count": 77,
   "metadata": {},
   "outputs": [],
   "source": [
    "from sklearn.metrics import mean_absolute_error"
   ]
  },
  {
   "cell_type": "code",
   "execution_count": 84,
   "metadata": {},
   "outputs": [],
   "source": [
    "XX = (data.Beer_PerCapita)**2"
   ]
  },
  {
   "cell_type": "code",
   "execution_count": 86,
   "metadata": {},
   "outputs": [],
   "source": [
    "XX = pd.DataFrame(XX)"
   ]
  },
  {
   "cell_type": "code",
   "execution_count": 90,
   "metadata": {},
   "outputs": [],
   "source": [
    "l = [1] * XX.shape[0]"
   ]
  },
  {
   "cell_type": "code",
   "execution_count": 91,
   "metadata": {},
   "outputs": [],
   "source": [
    "XX['0']  = l"
   ]
  },
  {
   "cell_type": "code",
   "execution_count": 95,
   "metadata": {},
   "outputs": [],
   "source": [
    "new_dataframe = XX.reindex(columns=['0', \"Beer_PerCapita\"])"
   ]
  },
  {
   "cell_type": "code",
   "execution_count": 96,
   "metadata": {},
   "outputs": [
    {
     "data": {
      "text/html": [
       "<div>\n",
       "<style scoped>\n",
       "    .dataframe tbody tr th:only-of-type {\n",
       "        vertical-align: middle;\n",
       "    }\n",
       "\n",
       "    .dataframe tbody tr th {\n",
       "        vertical-align: top;\n",
       "    }\n",
       "\n",
       "    .dataframe thead th {\n",
       "        text-align: right;\n",
       "    }\n",
       "</style>\n",
       "<table border=\"1\" class=\"dataframe\">\n",
       "  <thead>\n",
       "    <tr style=\"text-align: right;\">\n",
       "      <th></th>\n",
       "      <th>0</th>\n",
       "      <th>Beer_PerCapita</th>\n",
       "    </tr>\n",
       "  </thead>\n",
       "  <tbody>\n",
       "    <tr>\n",
       "      <th>0</th>\n",
       "      <td>1</td>\n",
       "      <td>50176</td>\n",
       "    </tr>\n",
       "    <tr>\n",
       "      <th>1</th>\n",
       "      <td>1</td>\n",
       "      <td>34225</td>\n",
       "    </tr>\n",
       "    <tr>\n",
       "      <th>2</th>\n",
       "      <td>1</td>\n",
       "      <td>54289</td>\n",
       "    </tr>\n",
       "    <tr>\n",
       "      <th>3</th>\n",
       "      <td>1</td>\n",
       "      <td>28561</td>\n",
       "    </tr>\n",
       "    <tr>\n",
       "      <th>4</th>\n",
       "      <td>1</td>\n",
       "      <td>69169</td>\n",
       "    </tr>\n",
       "    <tr>\n",
       "      <th>...</th>\n",
       "      <td>...</td>\n",
       "      <td>...</td>\n",
       "    </tr>\n",
       "    <tr>\n",
       "      <th>117</th>\n",
       "      <td>1</td>\n",
       "      <td>1296</td>\n",
       "    </tr>\n",
       "    <tr>\n",
       "      <th>118</th>\n",
       "      <td>1</td>\n",
       "      <td>361</td>\n",
       "    </tr>\n",
       "    <tr>\n",
       "      <th>119</th>\n",
       "      <td>1</td>\n",
       "      <td>1156</td>\n",
       "    </tr>\n",
       "    <tr>\n",
       "      <th>120</th>\n",
       "      <td>1</td>\n",
       "      <td>1296</td>\n",
       "    </tr>\n",
       "    <tr>\n",
       "      <th>121</th>\n",
       "      <td>1</td>\n",
       "      <td>25</td>\n",
       "    </tr>\n",
       "  </tbody>\n",
       "</table>\n",
       "<p>122 rows × 2 columns</p>\n",
       "</div>"
      ],
      "text/plain": [
       "     0  Beer_PerCapita\n",
       "0    1           50176\n",
       "1    1           34225\n",
       "2    1           54289\n",
       "3    1           28561\n",
       "4    1           69169\n",
       "..  ..             ...\n",
       "117  1            1296\n",
       "118  1             361\n",
       "119  1            1156\n",
       "120  1            1296\n",
       "121  1              25\n",
       "\n",
       "[122 rows x 2 columns]"
      ]
     },
     "execution_count": 96,
     "metadata": {},
     "output_type": "execute_result"
    }
   ],
   "source": [
    "new_dataframe"
   ]
  },
  {
   "cell_type": "code",
   "execution_count": 99,
   "metadata": {},
   "outputs": [
    {
     "data": {
      "text/plain": [
       "0.8790980137114064"
      ]
     },
     "execution_count": 99,
     "metadata": {},
     "output_type": "execute_result"
    }
   ],
   "source": [
    "mean_absolute_error(y, lr.predict(X))"
   ]
  },
  {
   "cell_type": "code",
   "execution_count": null,
   "metadata": {},
   "outputs": [],
   "source": []
  }
 ],
 "metadata": {
  "kernelspec": {
   "display_name": "Python 3",
   "language": "python",
   "name": "python3"
  },
  "language_info": {
   "codemirror_mode": {
    "name": "ipython",
    "version": 3
   },
   "file_extension": ".py",
   "mimetype": "text/x-python",
   "name": "python",
   "nbconvert_exporter": "python",
   "pygments_lexer": "ipython3",
   "version": "3.8.8"
  }
 },
 "nbformat": 4,
 "nbformat_minor": 4
}
